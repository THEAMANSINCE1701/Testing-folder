{
 "cells": [
  {
   "cell_type": "code",
   "execution_count": 1,
   "id": "8749a848",
   "metadata": {},
   "outputs": [
    {
     "name": "stdout",
     "output_type": "stream",
     "text": [
      "hello world\n"
     ]
    }
   ],
   "source": [
    "print(\"hello world\")"
   ]
  },
  {
   "cell_type": "code",
   "execution_count": 2,
   "id": "db81259e",
   "metadata": {},
   "outputs": [],
   "source": [
    "v=10"
   ]
  },
  {
   "cell_type": "code",
   "execution_count": 3,
   "id": "c5eceb1a",
   "metadata": {},
   "outputs": [
    {
     "data": {
      "text/plain": [
       "10"
      ]
     },
     "execution_count": 3,
     "metadata": {},
     "output_type": "execute_result"
    }
   ],
   "source": [
    "v"
   ]
  },
  {
   "cell_type": "code",
   "execution_count": 4,
   "id": "7624fc49",
   "metadata": {},
   "outputs": [],
   "source": [
    "str=\"aman\""
   ]
  },
  {
   "cell_type": "code",
   "execution_count": 5,
   "id": "eb50fc4a",
   "metadata": {},
   "outputs": [
    {
     "data": {
      "text/plain": [
       "'aman'"
      ]
     },
     "execution_count": 5,
     "metadata": {},
     "output_type": "execute_result"
    }
   ],
   "source": [
    "str"
   ]
  },
  {
   "cell_type": "code",
   "execution_count": 6,
   "id": "f76d140d",
   "metadata": {},
   "outputs": [],
   "source": [
    "dict={\"company\":\"audi\",\n",
    "     \"model\":\"r8\",\n",
    "     \"year\":2017}"
   ]
  },
  {
   "cell_type": "code",
   "execution_count": 7,
   "id": "bce47474",
   "metadata": {},
   "outputs": [
    {
     "data": {
      "text/plain": [
       "{'company': 'audi', 'model': 'r8', 'year': 2017}"
      ]
     },
     "execution_count": 7,
     "metadata": {},
     "output_type": "execute_result"
    }
   ],
   "source": [
    "dict"
   ]
  },
  {
   "cell_type": "code",
   "execution_count": 8,
   "id": "ff5a108c",
   "metadata": {},
   "outputs": [
    {
     "name": "stdout",
     "output_type": "stream",
     "text": [
      "<class 'dict'>\n"
     ]
    }
   ],
   "source": [
    "print(type(dict))"
   ]
  },
  {
   "cell_type": "code",
   "execution_count": 9,
   "id": "94dbbcea",
   "metadata": {},
   "outputs": [
    {
     "name": "stdout",
     "output_type": "stream",
     "text": [
      "dict_keys(['company', 'model', 'year'])\n"
     ]
    }
   ],
   "source": [
    "print(dict.keys())"
   ]
  },
  {
   "cell_type": "code",
   "execution_count": 11,
   "id": "ca9437ac",
   "metadata": {},
   "outputs": [
    {
     "name": "stdout",
     "output_type": "stream",
     "text": [
      "dict_values(['audi', 'r8', 2017])\n"
     ]
    }
   ],
   "source": [
    "print(dict.values())"
   ]
  },
  {
   "cell_type": "code",
   "execution_count": 13,
   "id": "00143074",
   "metadata": {},
   "outputs": [
    {
     "name": "stdout",
     "output_type": "stream",
     "text": [
      "audi\n"
     ]
    }
   ],
   "source": [
    "print(dict[\"company\"])"
   ]
  },
  {
   "cell_type": "code",
   "execution_count": 14,
   "id": "43bc7b1a",
   "metadata": {},
   "outputs": [],
   "source": [
    "dict.update({\"company\":\"bmw\"})"
   ]
  },
  {
   "cell_type": "code",
   "execution_count": 15,
   "id": "c101ae30",
   "metadata": {},
   "outputs": [
    {
     "data": {
      "text/plain": [
       "{'company': 'bmw', 'model': 'r8', 'year': 2017}"
      ]
     },
     "execution_count": 15,
     "metadata": {},
     "output_type": "execute_result"
    }
   ],
   "source": [
    "dict"
   ]
  },
  {
   "cell_type": "code",
   "execution_count": 16,
   "id": "1991afbb",
   "metadata": {},
   "outputs": [],
   "source": [
    "dict.update({\"company1\":\"suzuki\"})"
   ]
  },
  {
   "cell_type": "code",
   "execution_count": 17,
   "id": "e5c3006e",
   "metadata": {},
   "outputs": [
    {
     "data": {
      "text/plain": [
       "{'company': 'bmw', 'model': 'r8', 'year': 2017, 'company1': 'suzuki'}"
      ]
     },
     "execution_count": 17,
     "metadata": {},
     "output_type": "execute_result"
    }
   ],
   "source": [
    "dict"
   ]
  },
  {
   "cell_type": "code",
   "execution_count": null,
   "id": "f5e64e29",
   "metadata": {},
   "outputs": [],
   "source": []
  }
 ],
 "metadata": {
  "kernelspec": {
   "display_name": "Python 3 (ipykernel)",
   "language": "python",
   "name": "python3"
  },
  "language_info": {
   "codemirror_mode": {
    "name": "ipython",
    "version": 3
   },
   "file_extension": ".py",
   "mimetype": "text/x-python",
   "name": "python",
   "nbconvert_exporter": "python",
   "pygments_lexer": "ipython3",
   "version": "3.7.9"
  }
 },
 "nbformat": 4,
 "nbformat_minor": 5
}
