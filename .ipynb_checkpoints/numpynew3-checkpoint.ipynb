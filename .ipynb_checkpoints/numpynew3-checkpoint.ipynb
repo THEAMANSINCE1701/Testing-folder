{
 "cells": [
  {
   "cell_type": "code",
   "execution_count": 1,
   "id": "50b0b010",
   "metadata": {},
   "outputs": [],
   "source": [
    "import numpy as np"
   ]
  },
  {
   "cell_type": "code",
   "execution_count": 2,
   "id": "18b5155e",
   "metadata": {},
   "outputs": [],
   "source": [
    "from numpy import random"
   ]
  },
  {
   "cell_type": "code",
   "execution_count": 5,
   "id": "9b06f680",
   "metadata": {},
   "outputs": [],
   "source": [
    "#100  tk limit set hu gyi limit kitni bhi de skte hai\n",
    "x=random.randint(100)"
   ]
  },
  {
   "cell_type": "code",
   "execution_count": 6,
   "id": "ef7bbcfa",
   "metadata": {},
   "outputs": [
    {
     "data": {
      "text/plain": [
       "84"
      ]
     },
     "execution_count": 6,
     "metadata": {},
     "output_type": "execute_result"
    }
   ],
   "source": [
    "x"
   ]
  },
  {
   "cell_type": "code",
   "execution_count": 14,
   "id": "e60ad1fb",
   "metadata": {},
   "outputs": [
    {
     "name": "stdout",
     "output_type": "stream",
     "text": [
      "you win the lottery 9\n"
     ]
    }
   ],
   "source": [
    "x=random.randint(10)\n",
    "if(x==5 or x==9):\n",
    "    print(\"you win the lottery\",x)\n",
    "else:\n",
    "    print(\"you lost\",x)"
   ]
  },
  {
   "cell_type": "code",
   "execution_count": 15,
   "id": "92292611",
   "metadata": {},
   "outputs": [
    {
     "data": {
      "text/plain": [
       "0.5440392730643668"
      ]
     },
     "execution_count": 15,
     "metadata": {},
     "output_type": "execute_result"
    }
   ],
   "source": [
    "# o-1 ke bitch float values lena hai tu\n",
    "y=random.rand()\n",
    "y"
   ]
  },
  {
   "cell_type": "code",
   "execution_count": 16,
   "id": "76a2cacb",
   "metadata": {},
   "outputs": [
    {
     "data": {
      "text/plain": [
       "array([36, 23, 80, 78, 60])"
      ]
     },
     "execution_count": 16,
     "metadata": {},
     "output_type": "execute_result"
    }
   ],
   "source": [
    "z=random.randint(100,size=5)\n",
    "z"
   ]
  },
  {
   "cell_type": "code",
   "execution_count": 19,
   "id": "933c930e",
   "metadata": {},
   "outputs": [
    {
     "data": {
      "text/plain": [
       "array([[[40, 85, 12],\n",
       "        [15,  1, 15],\n",
       "        [ 1, 34, 62]],\n",
       "\n",
       "       [[39, 88, 68],\n",
       "        [91, 75, 99],\n",
       "        [41, 38, 30]],\n",
       "\n",
       "       [[84, 39, 40],\n",
       "        [43, 59, 45],\n",
       "        [ 0, 26, 53]]])"
      ]
     },
     "execution_count": 19,
     "metadata": {},
     "output_type": "execute_result"
    }
   ],
   "source": [
    "#teen dalenge ti 3d ban jayega or 2 dalenge tu 2d bn jayaega\n",
    "z1=random.randint(100,size=(3,3,3))\n",
    "z1"
   ]
  },
  {
   "cell_type": "code",
   "execution_count": 20,
   "id": "4aa1234d",
   "metadata": {},
   "outputs": [
    {
     "data": {
      "text/plain": [
       "20"
      ]
     },
     "execution_count": 20,
     "metadata": {},
     "output_type": "execute_result"
    }
   ],
   "source": [
    "z2=random.choice([5,6,7,8,20])\n",
    "z2"
   ]
  },
  {
   "cell_type": "code",
   "execution_count": 21,
   "id": "28472e8f",
   "metadata": {},
   "outputs": [
    {
     "data": {
      "text/plain": [
       "array([ 6,  8,  8, 20,  8])"
      ]
     },
     "execution_count": 21,
     "metadata": {},
     "output_type": "execute_result"
    }
   ],
   "source": [
    "z2=random.choice([5,6,7,8,20],size=5)\n",
    "z2"
   ]
  },
  {
   "cell_type": "code",
   "execution_count": null,
   "id": "fa7b967b",
   "metadata": {},
   "outputs": [],
   "source": []
  }
 ],
 "metadata": {
  "kernelspec": {
   "display_name": "Python 3 (ipykernel)",
   "language": "python",
   "name": "python3"
  },
  "language_info": {
   "codemirror_mode": {
    "name": "ipython",
    "version": 3
   },
   "file_extension": ".py",
   "mimetype": "text/x-python",
   "name": "python",
   "nbconvert_exporter": "python",
   "pygments_lexer": "ipython3",
   "version": "3.7.9"
  }
 },
 "nbformat": 4,
 "nbformat_minor": 5
}
