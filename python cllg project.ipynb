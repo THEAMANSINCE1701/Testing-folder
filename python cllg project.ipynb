{
 "cells": [
  {
   "cell_type": "code",
   "execution_count": 54,
   "id": "6dc724d3",
   "metadata": {},
   "outputs": [],
   "source": [
    "import pandas as pd"
   ]
  },
  {
   "cell_type": "code",
   "execution_count": 55,
   "id": "563a20b5",
   "metadata": {},
   "outputs": [],
   "source": [
    "weatherdata={'day':['1/1/2018','2/1/2018'],\n",
    "            'mintemp':[10,9],'maxtep':[20,21],\n",
    "            'windspeed':[5,6],\n",
    "            'event':['rain','sunny']}"
   ]
  },
  {
   "cell_type": "code",
   "execution_count": 56,
   "id": "c9e033e9",
   "metadata": {},
   "outputs": [],
   "source": [
    "df=pd.DataFrame(weatherdata)"
   ]
  },
  {
   "cell_type": "code",
   "execution_count": 57,
   "id": "e09ecd7c",
   "metadata": {},
   "outputs": [
    {
     "name": "stdout",
     "output_type": "stream",
     "text": [
      "        day  mintemp  maxtep  windspeed  event\n",
      "0  1/1/2018       10      20          5   rain\n",
      "1  2/1/2018        9      21          6  sunny\n"
     ]
    }
   ],
   "source": [
    "print(df)#print in a form of dataframe"
   ]
  },
  {
   "cell_type": "code",
   "execution_count": 58,
   "id": "c2e28a7a",
   "metadata": {},
   "outputs": [
    {
     "name": "stdout",
     "output_type": "stream",
     "text": [
      "{'day': ['1/1/2018', '2/1/2018'], 'mintemp': [10, 9], 'maxtep': [20, 21], 'windspeed': [5, 6], 'event': ['rain', 'sunny']}\n"
     ]
    }
   ],
   "source": [
    "print(weatherdata)#print in a form of dictionary "
   ]
  },
  {
   "cell_type": "code",
   "execution_count": 59,
   "id": "82291747",
   "metadata": {},
   "outputs": [
    {
     "name": "stdout",
     "output_type": "stream",
     "text": [
      "        day  mintemp  maxtep  windspeed  event\n",
      "0  1/1/2018       10      20          5   rain\n",
      "1  2/1/2018        9      21          6  sunny\n"
     ]
    }
   ],
   "source": [
    "print(df.head())#display top 5 records"
   ]
  },
  {
   "cell_type": "code",
   "execution_count": 60,
   "id": "b132f249",
   "metadata": {},
   "outputs": [
    {
     "name": "stdout",
     "output_type": "stream",
     "text": [
      "        day  mintemp  maxtep  windspeed  event\n",
      "0  1/1/2018       10      20          5   rain\n",
      "1  2/1/2018        9      21          6  sunny\n"
     ]
    }
   ],
   "source": [
    "print(df.head(4))"
   ]
  },
  {
   "cell_type": "code",
   "execution_count": 61,
   "id": "4161d95f",
   "metadata": {},
   "outputs": [
    {
     "name": "stdout",
     "output_type": "stream",
     "text": [
      "        day  mintemp  maxtep  windspeed  event\n",
      "0  1/1/2018       10      20          5   rain\n",
      "1  2/1/2018        9      21          6  sunny\n"
     ]
    }
   ],
   "source": [
    "print(df.tail())"
   ]
  },
  {
   "cell_type": "code",
   "execution_count": 62,
   "id": "619f7dd4",
   "metadata": {},
   "outputs": [
    {
     "name": "stdout",
     "output_type": "stream",
     "text": [
      "        day  mintemp  maxtep  windspeed  event\n",
      "0  1/1/2018       10      20          5   rain\n",
      "1  2/1/2018        9      21          6  sunny\n"
     ]
    }
   ],
   "source": [
    "print(df.tail(10))"
   ]
  },
  {
   "cell_type": "code",
   "execution_count": 63,
   "id": "cbef88cf",
   "metadata": {},
   "outputs": [
    {
     "name": "stdout",
     "output_type": "stream",
     "text": [
      "Index(['day', 'mintemp', 'maxtep', 'windspeed', 'event'], dtype='object')\n"
     ]
    }
   ],
   "source": [
    "print(df.columns)"
   ]
  },
  {
   "cell_type": "code",
   "execution_count": 64,
   "id": "2f13ee87",
   "metadata": {},
   "outputs": [
    {
     "name": "stdout",
     "output_type": "stream",
     "text": [
      "0     rain\n",
      "1    sunny\n",
      "Name: event, dtype: object\n"
     ]
    }
   ],
   "source": [
    "print(df['event'])"
   ]
  },
  {
   "cell_type": "code",
   "execution_count": null,
   "id": "31123652",
   "metadata": {},
   "outputs": [],
   "source": []
  },
  {
   "cell_type": "code",
   "execution_count": 65,
   "id": "30634e56",
   "metadata": {},
   "outputs": [
    {
     "name": "stdout",
     "output_type": "stream",
     "text": [
      "          Date         Open         High          Low        Close  \\\n",
      "0    5/27/2021  15323.95020  15384.54981  15272.50000  15337.84961   \n",
      "1    5/28/2021  15421.20020  15469.65039  15394.75000  15435.65039   \n",
      "2    5/31/2021  15437.75000  15606.34961  15374.00000  15582.79981   \n",
      "3     6/1/2021  15629.65039  15660.75000  15528.29981  15574.84961   \n",
      "4     6/2/2021  15520.34961  15597.45020  15459.84961  15576.20020   \n",
      "..         ...          ...          ...          ...          ...   \n",
      "244  5/20/2022  16043.79981  16283.04981  16003.84961  16266.15039   \n",
      "245  5/23/2022  16290.95020  16414.69922  16185.75000  16214.70020   \n",
      "246  5/24/2022  16225.54981  16262.79981  16078.59961  16125.15039   \n",
      "247  5/25/2022  16196.34961  16223.34961  16006.95020  16025.79981   \n",
      "248  5/26/2022  16105.00000  16204.45020  15903.70020  16170.15039   \n",
      "\n",
      "       Adj Close  Volume  \n",
      "0    15337.84961       0  \n",
      "1    15435.65039  468100  \n",
      "2    15582.79981  436000  \n",
      "3    15574.84961  409600  \n",
      "4    15576.20020  428600  \n",
      "..           ...     ...  \n",
      "244  16266.15039  252400  \n",
      "245  16214.70020  293800  \n",
      "246  16125.15039  249800  \n",
      "247  16025.79981  243300  \n",
      "248  16170.15039       0  \n",
      "\n",
      "[249 rows x 7 columns]\n"
     ]
    }
   ],
   "source": [
    "da=pd.read_csv(\"nifty.csv\")\n",
    "print(da)"
   ]
  },
  {
   "cell_type": "code",
   "execution_count": 66,
   "id": "40643675",
   "metadata": {},
   "outputs": [
    {
     "name": "stdout",
     "output_type": "stream",
     "text": [
      "18602.34961\n"
     ]
    }
   ],
   "source": [
    "print(da['Open'].max())"
   ]
  },
  {
   "cell_type": "code",
   "execution_count": 67,
   "id": "e09a07d5",
   "metadata": {},
   "outputs": [
    {
     "name": "stdout",
     "output_type": "stream",
     "text": [
      "4163769.4454500005\n"
     ]
    }
   ],
   "source": [
    "print(da['Open'].sum())"
   ]
  },
  {
   "cell_type": "code",
   "execution_count": 68,
   "id": "06cee743",
   "metadata": {},
   "outputs": [
    {
     "name": "stdout",
     "output_type": "stream",
     "text": [
      "16994.97732836735\n"
     ]
    }
   ],
   "source": [
    "print(da['Open'].mean())"
   ]
  },
  {
   "cell_type": "code",
   "execution_count": 69,
   "id": "3462d6ff",
   "metadata": {},
   "outputs": [
    {
     "name": "stdout",
     "output_type": "stream",
     "text": [
      "16721.965644377513\n"
     ]
    }
   ],
   "source": [
    "da.fillna(0,inplace=True)\n",
    "print(da['Open'].mean())\n",
    "#print(da)"
   ]
  },
  {
   "cell_type": "code",
   "execution_count": 70,
   "id": "a9ce2c33",
   "metadata": {},
   "outputs": [],
   "source": [
    "da=pd.read_csv(\"nifty.csv\",header=None)"
   ]
  },
  {
   "cell_type": "code",
   "execution_count": 71,
   "id": "be9aff46",
   "metadata": {},
   "outputs": [
    {
     "name": "stdout",
     "output_type": "stream",
     "text": [
      "             0            1            2            3            4  \\\n",
      "0         Date         Open         High          Low        Close   \n",
      "1    5/27/2021   15323.9502  15384.54981      15272.5  15337.84961   \n",
      "2    5/28/2021   15421.2002  15469.65039     15394.75  15435.65039   \n",
      "3    5/31/2021     15437.75  15606.34961        15374  15582.79981   \n",
      "4     6/1/2021  15629.65039     15660.75  15528.29981  15574.84961   \n",
      "..         ...          ...          ...          ...          ...   \n",
      "245  5/20/2022  16043.79981  16283.04981  16003.84961  16266.15039   \n",
      "246  5/23/2022   16290.9502  16414.69922     16185.75   16214.7002   \n",
      "247  5/24/2022  16225.54981  16262.79981  16078.59961  16125.15039   \n",
      "248  5/25/2022  16196.34961  16223.34961   16006.9502  16025.79981   \n",
      "249  5/26/2022        16105   16204.4502   15903.7002  16170.15039   \n",
      "\n",
      "               5       6  \n",
      "0      Adj Close  Volume  \n",
      "1    15337.84961       0  \n",
      "2    15435.65039  468100  \n",
      "3    15582.79981  436000  \n",
      "4    15574.84961  409600  \n",
      "..           ...     ...  \n",
      "245  16266.15039  252400  \n",
      "246   16214.7002  293800  \n",
      "247  16125.15039  249800  \n",
      "248  16025.79981  243300  \n",
      "249  16170.15039       0  \n",
      "\n",
      "[250 rows x 7 columns]\n"
     ]
    }
   ],
   "source": [
    "print(da)"
   ]
  },
  {
   "cell_type": "code",
   "execution_count": 72,
   "id": "e7745199",
   "metadata": {},
   "outputs": [
    {
     "name": "stdout",
     "output_type": "stream",
     "text": [
      "        day  high  low    cn\n",
      "0  1/1/2019    22   11  infy\n",
      "1  2/1/2018    20   10  infy\n",
      "2  3/1/2018    20   10  infy\n"
     ]
    }
   ],
   "source": [
    "stock=[('1/1/2019',22,11,'infy'),\n",
    "       ('2/1/2018',20,10,'infy'),\n",
    "       ('3/1/2018',20,10,'infy')]\n",
    "\n",
    "da=pd.DataFrame(stock,columns=['day','high','low','cn'])\n",
    "print(da)"
   ]
  },
  {
   "cell_type": "code",
   "execution_count": 78,
   "id": "9235647b",
   "metadata": {},
   "outputs": [
    {
     "name": "stdout",
     "output_type": "stream",
     "text": [
      "          Date         Open         High          Low        Close  \\\n",
      "0    5/27/2021  15323.95020  15384.54981  15272.50000  15337.84961   \n",
      "1    5/28/2021  15421.20020  15469.65039  15394.75000  15435.65039   \n",
      "2    5/31/2021  15437.75000  15606.34961  15374.00000  15582.79981   \n",
      "3     6/1/2021  15629.65039  15660.75000  15528.29981  15574.84961   \n",
      "4     6/2/2021  15520.34961  15597.45020  15459.84961  15576.20020   \n",
      "..         ...          ...          ...          ...          ...   \n",
      "244  5/20/2022  16043.79981  16283.04981  16003.84961  16266.15039   \n",
      "245  5/23/2022  16290.95020  16414.69922  16185.75000  16214.70020   \n",
      "246  5/24/2022  16225.54981  16262.79981  16078.59961  16125.15039   \n",
      "247  5/25/2022  16196.34961  16223.34961  16006.95020  16025.79981   \n",
      "248  5/26/2022  16105.00000  16204.45020  15903.70020  16170.15039   \n",
      "\n",
      "       Adj Close  Volume  \n",
      "0    15337.84961       0  \n",
      "1    15435.65039  468100  \n",
      "2    15582.79981  436000  \n",
      "3    15574.84961  409600  \n",
      "4    15576.20020  428600  \n",
      "..           ...     ...  \n",
      "244  16266.15039  252400  \n",
      "245  16214.70020  293800  \n",
      "246  16125.15039  249800  \n",
      "247  16025.79981  243300  \n",
      "248  16170.15039       0  \n",
      "\n",
      "[249 rows x 7 columns]\n"
     ]
    }
   ],
   "source": [
    "da=pd.read_csv(\"nifty.csv\")\n",
    "da.to_csv(\"aa.csv\")\n",
    "da.to_csv(\"aa1.csv\",index=False)\n",
    "da.to_csv(\"aa2.csv\",header=False)\n",
    "da.to_csv(\"aa3.csv\",columns=['Open','Close'])\n",
    "print(da)"
   ]
  },
  {
   "cell_type": "code",
   "execution_count": null,
   "id": "bed7476d",
   "metadata": {},
   "outputs": [],
   "source": []
  },
  {
   "cell_type": "code",
   "execution_count": null,
   "id": "8dba9e58",
   "metadata": {},
   "outputs": [],
   "source": []
  }
 ],
 "metadata": {
  "kernelspec": {
   "display_name": "Python 3 (ipykernel)",
   "language": "python",
   "name": "python3"
  },
  "language_info": {
   "codemirror_mode": {
    "name": "ipython",
    "version": 3
   },
   "file_extension": ".py",
   "mimetype": "text/x-python",
   "name": "python",
   "nbconvert_exporter": "python",
   "pygments_lexer": "ipython3",
   "version": "3.7.9"
  }
 },
 "nbformat": 4,
 "nbformat_minor": 5
}
